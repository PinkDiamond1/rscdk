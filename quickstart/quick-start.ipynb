{
 "cells": [
  {
   "cell_type": "code",
   "execution_count": null,
   "metadata": {
    "colab": {
     "base_uri": "https://localhost:8080/"
    },
    "id": "dufmM-T1Helt",
    "outputId": "34544187-8724-476b-e3cd-7dc8ed1d08e0"
   },
   "outputs": [],
   "source": [
    "# setup build & test environment\n",
    "\n",
    "# install EOS test framework\n",
    "! pip install ipyeos\n",
    "\n",
    "# install EOS rust contracts build\n",
    "! pip install rust-contracts-builder\n",
    "\n",
    "# install rust\n",
    "! wget https://static.rust-lang.org/rustup/dist/x86_64-unknown-linux-gnu/rustup-init\n",
    "! chmod a+x rustup-init\n",
    "! ./rustup-init -y\n",
    "\n",
    "import os\n",
    "# Add cargo to path\n",
    "os.environ['PATH'] += ':/root/.cargo/bin'\n",
    "\n",
    "! rustup toolchain install nightly --component rust-src\n",
    "\n",
    "# install binaryen\n",
    "! wget https://github.com/WebAssembly/binaryen/releases/download/version_109/binaryen-version_109-x86_64-linux.tar.gz\n",
    "! tar -C /usr/local -xzf binaryen-version_109-x86_64-linux.tar.gz\n",
    "\n",
    "# Add binaryen to path\n",
    "os.environ['PATH'] += ':/usr/local/binaryen-version_109/bin'\n"
   ]
  },
  {
   "cell_type": "code",
   "execution_count": null,
   "metadata": {
    "colab": {
     "base_uri": "https://localhost:8080/"
    },
    "id": "53R45CVoQwVe",
    "outputId": "8c5bb702-5d4e-426e-eccc-40a888ac9344"
   },
   "outputs": [],
   "source": [
    "# Inialize a project with name `hello`\n",
    "! rust-contract init hello\n",
    "os.chdir('./hello')"
   ]
  },
  {
   "cell_type": "code",
   "execution_count": null,
   "metadata": {
    "id": "k4IKPkUGTEPY"
   },
   "outputs": [],
   "source": [
    "# Show content of source code\n",
    "! cat lib.rs"
   ]
  },
  {
   "cell_type": "code",
   "execution_count": null,
   "metadata": {
    "colab": {
     "base_uri": "https://localhost:8080/"
    },
    "id": "TerZTNxWQ0cF",
    "outputId": "d1555186-3772-4592-d739-075942789051"
   },
   "outputs": [],
   "source": [
    "# Build\n",
    "! ./build.sh"
   ]
  },
  {
   "cell_type": "code",
   "execution_count": null,
   "metadata": {
    "colab": {
     "base_uri": "https://localhost:8080/"
    },
    "id": "Kyn3uBt0SpSe",
    "outputId": "1d7598e7-4c44-4a92-ee2a-37f34d7b8d0f"
   },
   "outputs": [],
   "source": [
    "# Test\n",
    "!./test.sh"
   ]
  }
 ],
 "metadata": {
  "kernelspec": {
   "display_name": "Python 3 (ipykernel)",
   "language": "python",
   "name": "python3"
  },
  "language_info": {
   "codemirror_mode": {
    "name": "ipython",
    "version": 3
   },
   "file_extension": ".py",
   "mimetype": "text/x-python",
   "name": "python",
   "nbconvert_exporter": "python",
   "pygments_lexer": "ipython3",
   "version": "3.9.5"
  }
 },
 "nbformat": 4,
 "nbformat_minor": 1
}
